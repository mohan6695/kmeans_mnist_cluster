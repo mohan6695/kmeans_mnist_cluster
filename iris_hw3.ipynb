{
  "nbformat": 4,
  "nbformat_minor": 0,
  "metadata": {
    "colab": {
      "name": "iris_h3.ipynb",
      "provenance": []
    },
    "kernelspec": {
      "name": "python3",
      "display_name": "Python 3"
    },
    "accelerator": "TPU"
  },
  "cells": [
    {
      "cell_type": "code",
      "metadata": {
        "id": "3v-eL0NjNzZd"
      },
      "source": [
        "import warnings\n",
        "from sklearn.decomposition import PCA\n",
        "import pandas as pd\n",
        "import numpy as np\n",
        "import matplotlib.pyplot as plt\n",
        "import mpl_toolkits.mplot3d.axes3d as p3\n",
        "from sklearn.datasets import make_swiss_roll, make_blobs, load_digits\n",
        "from sklearn import decomposition\n",
        "from sklearn.manifold import TSNE as ts"
      ],
      "execution_count": 4,
      "outputs": []
    },
    {
      "cell_type": "code",
      "metadata": {
        "id": "jtVZwJuOPWu0"
      },
      "source": [
        "\n",
        "df = pd.read_csv('iris.txt',header=None,delimiter=',')\n",
        "l=[]\n",
        "for i in df[0]:\n",
        "  l.append([float(x) for x in i.split()])"
      ],
      "execution_count": 5,
      "outputs": []
    },
    {
      "cell_type": "code",
      "metadata": {
        "id": "EolKvOkRf6v-",
        "outputId": "e730c588-2c89-451a-8b8d-6619249b1f04",
        "colab": {
          "base_uri": "https://localhost:8080/",
          "height": 34
        }
      },
      "source": [
        "data=np.asarray(l)\n",
        "type(data)"
      ],
      "execution_count": 6,
      "outputs": [
        {
          "output_type": "execute_result",
          "data": {
            "text/plain": [
              "numpy.ndarray"
            ]
          },
          "metadata": {
            "tags": []
          },
          "execution_count": 6
        }
      ]
    },
    {
      "cell_type": "code",
      "metadata": {
        "id": "5BQTpyHpGyD7"
      },
      "source": [
        ""
      ],
      "execution_count": 6,
      "outputs": []
    },
    {
      "cell_type": "code",
      "metadata": {
        "id": "Y8XuDdnLCY8w"
      },
      "source": [
        ""
      ],
      "execution_count": 6,
      "outputs": []
    },
    {
      "cell_type": "code",
      "metadata": {
        "id": "JiMCgFQAeFqR"
      },
      "source": [
        "\n",
        "def form_clusters(data,k):\n",
        "  tot_rows=data.shape[0]\n",
        "  tot_cols=data.shape[1]\n",
        "  centroids = data[np.random.choice(data.shape[0], size=k, replace=False), :]\n",
        "  \n",
        "  cluster_assign = np.empty(tot_rows)\n",
        "  cluster_distance = np.empty(tot_rows)\n",
        "\n",
        "  # boolean value to check whether previous centroid is the same as the new one\n",
        "  same_centroids = False\n",
        "  max_iter = 1000\n",
        "  while max_iter > 0 and not(same_centroids):\n",
        "    #assign clusters to data instances\n",
        "    for row in range(0, tot_rows):\n",
        "      curr_iter = data[row]\n",
        "      # calculate eucledian distance between the current instance and all the centroids\n",
        "      # assign the current instance to the nearest cluster\n",
        "      min_distance = float(\"inf\")\n",
        "      for centroid_index in range(0, k):\n",
        "        distance = np.linalg.norm(curr_iter - centroids[centroid_index])\n",
        "        if distance < min_distance:\n",
        "          min_distance=distance\n",
        "          cluster_distance[row]=min_distance\n",
        "          cluster_assign[row]=centroid_index\n",
        "\n",
        "    # Store the old centroids\n",
        "    old_centroids = centroids.copy()\n",
        "    # Calculate new centroids as per new cluster assignments\n",
        "    for r_centroid in range(0, k):\n",
        "      for c_centroid in range(0, tot_cols):\n",
        "         running_sum = 0.0\n",
        "         count = 0.0\n",
        "         average = None\n",
        " \n",
        "         for row in range(0, tot_rows):\n",
        "              # If this instance belongs to this cluster\n",
        "              if(r_centroid == cluster_assign[row]):   \n",
        "                 # Add this value to the running sum\n",
        "                 running_sum += data[row,c_centroid]\n",
        "                 # Increment the counter\n",
        "                 count=count+1\n",
        "         if (count > 0):\n",
        "           average = running_sum / count\n",
        "          # Update the centroids array with this average\n",
        "         centroids[r_centroid,c_centroid] = average\n",
        "    same_centroids = np.array_equal(old_centroids,centroids)\n",
        "    max_iter=max_iter-1\n",
        "\n",
        "  output = np.empty(tot_rows,dtype=int)\n",
        "  for i in range(0,tot_rows):\n",
        "    output[i]=int(cluster_assign[i]+1)\n",
        "  return output\n",
        "  \n",
        "  "
      ],
      "execution_count": 7,
      "outputs": []
    },
    {
      "cell_type": "code",
      "metadata": {
        "id": "OLkS2yImeFtc"
      },
      "source": [
        "sub=form_clusters(data,3)\n",
        "pd.DataFrame(sub).to_csv('iris_sub.txt',index=False,header=None)"
      ],
      "execution_count": 8,
      "outputs": []
    }
  ]
}